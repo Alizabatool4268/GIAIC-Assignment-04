{
  "nbformat": 4,
  "nbformat_minor": 0,
  "metadata": {
    "colab": {
      "provenance": []
    },
    "kernelspec": {
      "name": "python3",
      "display_name": "Python 3"
    },
    "language_info": {
      "name": "python"
    }
  },
  "cells": [
    {
      "cell_type": "markdown",
      "source": [
        "02_agreement_bot"
      ],
      "metadata": {
        "id": "NlhHJktX9gwB"
      }
    },
    {
      "cell_type": "code",
      "source": [
        "user_favourite_animal = input(\"what is your favourite animal: \")\n",
        "bot = f\"My favourite animal is also {user_favourite_animal}!\"\n",
        "print(bot)"
      ],
      "metadata": {
        "colab": {
          "base_uri": "https://localhost:8080/"
        },
        "id": "Nz_Vo0xY9n1V",
        "outputId": "afab9257-3b0e-43a2-c057-373e3fcdc003"
      },
      "execution_count": 6,
      "outputs": [
        {
          "output_type": "stream",
          "name": "stdout",
          "text": [
            "what is your favourite animal: capybara\n",
            "My favourite animal is also capybara!\n"
          ]
        }
      ]
    }
  ]
}