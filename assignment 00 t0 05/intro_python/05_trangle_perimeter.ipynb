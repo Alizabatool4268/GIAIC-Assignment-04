{
  "nbformat": 4,
  "nbformat_minor": 0,
  "metadata": {
    "colab": {
      "provenance": []
    },
    "kernelspec": {
      "name": "python3",
      "display_name": "Python 3"
    },
    "language_info": {
      "name": "python"
    }
  },
  "cells": [
    {
      "cell_type": "markdown",
      "source": [
        "Prompt the user to enter the lengths of each side of a triangle and then calculate and print the perimeter of the triangle (the sum of all of the side lengths)."
      ],
      "metadata": {
        "id": "Oh1qrXd2qXE8"
      }
    },
    {
      "cell_type": "code",
      "source": [
        "def calculate_perimeter ():\n",
        "  side1 = float(input(\"what is lenght of first side \"))\n",
        "  side2 = float(input(\"what is lenght of second side \"))\n",
        "  side3 = float(input(\"what is lenght of third side \"))\n",
        "\n",
        "  perimeter = side1 + side2 + side3\n",
        "  print(f\"perimeter is {perimeter}\")\n",
        "\n",
        "if __name__ == \"__main__\":\n",
        "  calculate_perimeter()\n",
        "\n"
      ],
      "metadata": {
        "colab": {
          "base_uri": "https://localhost:8080/"
        },
        "id": "8XTkf3pnqbQI",
        "outputId": "20b2f235-77e9-4925-fa8c-55d6c3725141"
      },
      "execution_count": 8,
      "outputs": [
        {
          "output_type": "stream",
          "name": "stdout",
          "text": [
            "what is lenght of first side 10\n",
            "what is lenght of second side 10\n",
            "what is lenght of third side 15\n",
            "perimeter is 35.0\n"
          ]
        }
      ]
    }
  ]
}