{
  "nbformat": 4,
  "nbformat_minor": 0,
  "metadata": {
    "colab": {
      "provenance": []
    },
    "kernelspec": {
      "name": "python3",
      "display_name": "Python 3"
    },
    "language_info": {
      "name": "python"
    }
  },
  "cells": [
    {
      "cell_type": "markdown",
      "source": [
        "01_add_two_numbers"
      ],
      "metadata": {
        "id": "SoOYPEPa18gk"
      }
    },
    {
      "cell_type": "code",
      "source": [
        "def main(num1, num2):\n",
        "  return num1+ num2\n",
        "\n",
        "if __name__ == '__main__':\n",
        "    print(main(1,5))"
      ],
      "metadata": {
        "colab": {
          "base_uri": "https://localhost:8080/"
        },
        "id": "cL1hg9YS3JvB",
        "outputId": "3bbd0c69-0ba7-4b20-ad95-2e523a9e746e"
      },
      "execution_count": 2,
      "outputs": [
        {
          "output_type": "stream",
          "name": "stdout",
          "text": [
            "6\n"
          ]
        }
      ]
    }
  ]
}