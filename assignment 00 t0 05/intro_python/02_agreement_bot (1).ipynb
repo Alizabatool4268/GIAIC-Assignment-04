{
  "nbformat": 4,
  "nbformat_minor": 0,
  "metadata": {
    "colab": {
      "provenance": []
    },
    "kernelspec": {
      "name": "python3",
      "display_name": "Python 3"
    },
    "language_info": {
      "name": "python"
    }
  },
  "cells": [
    {
      "cell_type": "markdown",
      "source": [
        "02_agreement_bot\n",
        "\n",
        "Write a program which asks the user what their favorite animal is, and then always responds with \"My favorite animal is also ___!\" (the blank should be filled in with the user-inputted animal, of course)."
      ],
      "metadata": {
        "id": "NlhHJktX9gwB"
      }
    },
    {
      "cell_type": "code",
      "source": [
        "def main():\n",
        "  user_favourite_animal = input(\"what is your favourite animal: \")\n",
        "  bot = f\"My favourite animal is also {user_favourite_animal}!\"\n",
        "  print(bot)\n",
        "\n",
        "\n",
        "if __name__ == \"__main__\":\n",
        "  main()"
      ],
      "metadata": {
        "colab": {
          "base_uri": "https://localhost:8080/"
        },
        "id": "Nz_Vo0xY9n1V",
        "outputId": "c3cef79e-fc74-4974-919b-482ffef495f7"
      },
      "execution_count": 4,
      "outputs": [
        {
          "output_type": "stream",
          "name": "stdout",
          "text": [
            "what is your favourite animal: capybara\n",
            "My favourite animal is also capybara!\n"
          ]
        }
      ]
    }
  ]
}