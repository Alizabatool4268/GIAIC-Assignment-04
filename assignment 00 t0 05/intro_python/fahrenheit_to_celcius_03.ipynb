{
  "nbformat": 4,
  "nbformat_minor": 0,
  "metadata": {
    "colab": {
      "provenance": []
    },
    "kernelspec": {
      "name": "python3",
      "display_name": "Python 3"
    },
    "language_info": {
      "name": "python"
    }
  },
  "cells": [
    {
      "cell_type": "code",
      "execution_count": 14,
      "metadata": {
        "colab": {
          "base_uri": "https://localhost:8080/"
        },
        "id": "Qdo0F5JeM5BM",
        "outputId": "98490b35-f85d-46f4-ef2c-e5442a0fdabf"
      },
      "outputs": [
        {
          "output_type": "stream",
          "name": "stdout",
          "text": [
            "35.55555555555556C\n"
          ]
        }
      ],
      "source": [
        "def fahrenheit_to_celcius(degrees_fahrenheit):\n",
        "  degrees_celsius = (degrees_fahrenheit - 32) * 5.0/9.0\n",
        "  print(f\"{degrees_celsius}C\")\n",
        "if __name__ == \"__main__\":\n",
        "  fahrenheit_to_celcius(96)"
      ]
    }
  ]
}