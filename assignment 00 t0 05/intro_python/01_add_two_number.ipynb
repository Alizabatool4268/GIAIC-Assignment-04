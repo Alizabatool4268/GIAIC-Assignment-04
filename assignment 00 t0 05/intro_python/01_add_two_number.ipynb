{
  "nbformat": 4,
  "nbformat_minor": 0,
  "metadata": {
    "colab": {
      "provenance": []
    },
    "kernelspec": {
      "name": "python3",
      "display_name": "Python 3"
    },
    "language_info": {
      "name": "python"
    }
  },
  "cells": [
    {
      "cell_type": "markdown",
      "source": [
        "01_add_two_numbers"
      ],
      "metadata": {
        "id": "SoOYPEPa18gk"
      }
    },
    {
      "cell_type": "code",
      "source": [
        "num1 = int(input(\"Enter your first number: \"))\n",
        "num2 = int(input(\"Enter your second number: \"))\n",
        "\n",
        "sum= num1+num2\n",
        "print(f\"sum: {sum}\")"
      ],
      "metadata": {
        "colab": {
          "base_uri": "https://localhost:8080/"
        },
        "id": "cL1hg9YS3JvB",
        "outputId": "9dffb26d-ff87-456e-fa49-a06c7cbcee71"
      },
      "execution_count": 5,
      "outputs": [
        {
          "output_type": "stream",
          "name": "stdout",
          "text": [
            "Enter your first number: 55\n",
            "Enter your second number: 10\n",
            "sum: 65\n"
          ]
        }
      ]
    }
  ]
}