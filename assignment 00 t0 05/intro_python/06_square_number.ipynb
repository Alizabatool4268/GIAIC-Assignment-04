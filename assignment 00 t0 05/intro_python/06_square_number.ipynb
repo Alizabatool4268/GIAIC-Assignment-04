{
  "nbformat": 4,
  "nbformat_minor": 0,
  "metadata": {
    "colab": {
      "provenance": []
    },
    "kernelspec": {
      "name": "python3",
      "display_name": "Python 3"
    },
    "language_info": {
      "name": "python"
    }
  },
  "cells": [
    {
      "cell_type": "markdown",
      "source": [
        "Ask the user for a number and print its square (the product of the number times itself)."
      ],
      "metadata": {
        "id": "Q1Abb_ECsrH0"
      }
    },
    {
      "cell_type": "code",
      "source": [
        "def squared_number():\n",
        "  num = int(input(\"Enter you number to see it squared \"))\n",
        "  print(f\"{num} squared is {str(num**2)}\")\n",
        "\n",
        "if __name__ == \"__main__\":\n",
        "  squared_number()\n"
      ],
      "metadata": {
        "colab": {
          "base_uri": "https://localhost:8080/"
        },
        "id": "IQjHG3Enssb8",
        "outputId": "bce68769-6772-4820-b0ae-d56252dd8812"
      },
      "execution_count": 14,
      "outputs": [
        {
          "output_type": "stream",
          "name": "stdout",
          "text": [
            "Enter you number to see it squared 12\n",
            "12 squared is 144\n"
          ]
        }
      ]
    }
  ]
}