{
  "nbformat": 4,
  "nbformat_minor": 0,
  "metadata": {
    "colab": {
      "provenance": []
    },
    "kernelspec": {
      "name": "python3",
      "display_name": "Python 3"
    },
    "language_info": {
      "name": "python"
    }
  },
  "cells": [
    {
      "cell_type": "markdown",
      "source": [
        "Write a program to solve this age-related riddle!\n",
        "\n",
        "Anton, Beth, Chen, Drew, and Ethan are all friends. Their ages are as follows:\n",
        "\n",
        "Anton is 21 years old.\n",
        "\n",
        "Beth is 6 years older than Anton.\n",
        "\n",
        "Chen is 20 years older than Beth.\n",
        "\n",
        "Drew is as old as Chen's age plus Anton's age.\n",
        "\n",
        "Ethan is the same age as Chen.\n",
        "\n",
        "Your code should store each person's age to a variable and print their names and ages at the end."
      ],
      "metadata": {
        "id": "BlerLkCUVafC"
      }
    },
    {
      "cell_type": "code",
      "source": [
        "def main():\n",
        "  anthon = 21\n",
        "  beth = anthon + 6\n",
        "  chen = beth+ 20\n",
        "  drew = chen + anthon\n",
        "  ethan = chen\n",
        "\n",
        "  print(f\"anthon age is {anthon}\")\n",
        "  print(f\"beth age is { beth }\")\n",
        "  print(f\"chen age is {chen}\")\n",
        "  print(f\"drew age is {drew}\")\n",
        "  print(f\"ethan age is {ethan}\")\n",
        "\n",
        "if __name__ == \"__main__\":\n",
        "  main()"
      ],
      "metadata": {
        "colab": {
          "base_uri": "https://localhost:8080/"
        },
        "id": "Npfe4HamVdY9",
        "outputId": "dbebec8e-18b1-42fa-adb0-99e6e06d2cba"
      },
      "execution_count": 2,
      "outputs": [
        {
          "output_type": "stream",
          "name": "stdout",
          "text": [
            "anthon age is 21\n",
            "beth age is 27\n",
            "chen age is 47\n",
            "drew age is 68\n",
            "ethan age is 47\n"
          ]
        }
      ]
    }
  ]
}