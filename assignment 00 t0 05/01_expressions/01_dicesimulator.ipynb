{
  "nbformat": 4,
  "nbformat_minor": 0,
  "metadata": {
    "colab": {
      "provenance": []
    },
    "kernelspec": {
      "name": "python3",
      "display_name": "Python 3"
    },
    "language_info": {
      "name": "python"
    }
  },
  "cells": [
    {
      "cell_type": "markdown",
      "source": [
        "Simulate rolling two dice, three times. Prints the results of each die roll. This program is used to show how variable scope works."
      ],
      "metadata": {
        "id": "fw1G3o3Dz-gX"
      }
    },
    {
      "cell_type": "code",
      "source": [
        "import random\n",
        "\n",
        "TOTAL_SIDES = 6\n",
        "\n",
        "def sum_of_two_dice():\n",
        "  dice1 = random.randint(1,TOTAL_SIDES)\n",
        "  dice2 = random.randint(1,TOTAL_SIDES)\n",
        "  sum = dice1 + dice2\n",
        "  print(f\"Dice one is {dice1} , Dice two is {dice2} there sum is {sum}\")\n",
        "\n",
        "sum_of_two_dice()\n",
        "sum_of_two_dice()\n",
        "sum_of_two_dice()"
      ],
      "metadata": {
        "colab": {
          "base_uri": "https://localhost:8080/"
        },
        "id": "nE0Yslnq0ARH",
        "outputId": "b37c6fc1-8bfe-40d7-b4c6-56ede216f0ab"
      },
      "execution_count": 5,
      "outputs": [
        {
          "output_type": "stream",
          "name": "stdout",
          "text": [
            "Dice one is 5, Dice two is 3 there sum is 8\n",
            "Dice one is 1, Dice two is 1 there sum is 2\n",
            "Dice one is 3, Dice two is 3 there sum is 6\n"
          ]
        }
      ]
    }
  ]
}