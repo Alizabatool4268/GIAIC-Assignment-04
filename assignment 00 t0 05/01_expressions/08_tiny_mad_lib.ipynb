{
  "nbformat": 4,
  "nbformat_minor": 0,
  "metadata": {
    "colab": {
      "provenance": []
    },
    "kernelspec": {
      "name": "python3",
      "display_name": "Python 3"
    },
    "language_info": {
      "name": "python"
    }
  },
  "cells": [
    {
      "cell_type": "markdown",
      "source": [
        "Write a program which prompts the user for an adjective, then a noun, then a verb, and then prints a fun sentence with those words!\n",
        "\n",
        "Mad Libs is a word game where players are prompted for one word at a time, and the words are eventually filled into the blanks of a word template to make an entertaining story! We've provided you with the beginning of a sentence (the SENTENCE_START constant) which will end in a user-inputted adjective, noun, and then verb."
      ],
      "metadata": {
        "id": "MaiW6JDfOYAv"
      }
    },
    {
      "cell_type": "code",
      "source": [
        "SENTENCE_START: str = \"Panaversity is fun. I learned to program and used Python to make my \"\n",
        "\n",
        "def main():\n",
        "    adjective: str = input(\"Please type an adjective and press enter. \")\n",
        "    noun: str = input(\"Please type a noun and press enter. \")\n",
        "    verb: str = input(\"Please type a verb and press enter. \")\n",
        "\n",
        "    print(SENTENCE_START + adjective + \" \" + noun + \" \" + verb + \"!\")\n",
        "\n",
        "if __name__ == '__main__':\n",
        "    main()"
      ],
      "metadata": {
        "colab": {
          "base_uri": "https://localhost:8080/"
        },
        "id": "KMMWLWpuObFP",
        "outputId": "ac40875f-edf4-49d8-d12c-1a0dae04affc"
      },
      "execution_count": 2,
      "outputs": [
        {
          "output_type": "stream",
          "name": "stdout",
          "text": [
            "Please type an adjective and press enter. functional\n",
            "Please type a noun and press enter. dashboard\n",
            "Please type a verb and press enter. work\n",
            "Panaversity is fun. I learned to program and used Python to make my functional dashboard work!\n"
          ]
        }
      ]
    }
  ]
}