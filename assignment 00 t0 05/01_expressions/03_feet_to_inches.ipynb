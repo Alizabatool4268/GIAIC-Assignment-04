{
  "nbformat": 4,
  "nbformat_minor": 0,
  "metadata": {
    "colab": {
      "provenance": []
    },
    "kernelspec": {
      "name": "python3",
      "display_name": "Python 3"
    },
    "language_info": {
      "name": "python"
    }
  },
  "cells": [
    {
      "cell_type": "markdown",
      "source": [
        "Converts feet to inches. Feet is an American unit of measurement. There are 12 inches per foot. Foot is the singular, and feet is the plural."
      ],
      "metadata": {
        "id": "dCnCI21-HFsA"
      }
    },
    {
      "cell_type": "code",
      "source": [
        "def feet_to_inches():\n",
        "  feet = float(input(\"Enter your value in feet \"))\n",
        "  inches = feet * 12\n",
        "  print(f\"{feet} in to inches is {inches}\")\n",
        "\n",
        "if __name__ == \"__main__\":\n",
        "  feet_to_inches()"
      ],
      "metadata": {
        "colab": {
          "base_uri": "https://localhost:8080/"
        },
        "id": "39YAAQPtHHBw",
        "outputId": "5547c3c6-b2bf-477d-88f8-572301eb28d3"
      },
      "execution_count": 4,
      "outputs": [
        {
          "output_type": "stream",
          "name": "stdout",
          "text": [
            "Enter your value in feet 33\n",
            "33.0 in to inches is 396.0\n"
          ]
        }
      ]
    }
  ]
}