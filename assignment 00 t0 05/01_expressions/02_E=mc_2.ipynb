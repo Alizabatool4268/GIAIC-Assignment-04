{
  "nbformat": 4,
  "nbformat_minor": 0,
  "metadata": {
    "colab": {
      "provenance": []
    },
    "kernelspec": {
      "name": "python3",
      "display_name": "Python 3"
    },
    "language_info": {
      "name": "python"
    }
  },
  "cells": [
    {
      "cell_type": "markdown",
      "source": [
        "Write a program that continually reads in mass from the user and then outputs the equivalent energy using Einstein's mass-energy equivalence formula (E stands for energy, m stands for mass, and C is the speed of light:\n",
        "\n",
        "E = m * c**2"
      ],
      "metadata": {
        "id": "O2CM4FsQ3hPB"
      }
    },
    {
      "cell_type": "code",
      "source": [
        "def main():\n",
        "    C: int = 299_792_458  # Speed of light in m/s\n",
        "    while True:\n",
        "        try:\n",
        "            mass = float(input(\"Enter mass in kg (or 0 to exit): \"))\n",
        "            if mass == 0:\n",
        "                print(\"Exiting program.\")\n",
        "                break\n",
        "            energy = mass * (C ** 2)\n",
        "            print(f\"Equivalent energy: {energy:.2e} joules\")\n",
        "        except ValueError:\n",
        "            print(\"Please enter a valid number.\")\n",
        "\n",
        "if __name__ == \"__main__\":\n",
        "    main()\n"
      ],
      "metadata": {
        "id": "LDyeFol53nuq",
        "colab": {
          "base_uri": "https://localhost:8080/"
        },
        "outputId": "a321cdcd-b508-4538-a6db-e4f100f32903"
      },
      "execution_count": 3,
      "outputs": [
        {
          "output_type": "stream",
          "name": "stdout",
          "text": [
            "Enter mass in kg (or 0 to exit): 5\n",
            "Equivalent energy: 4.49e+17 joules\n",
            "Enter mass in kg (or 0 to exit): 5\n",
            "Equivalent energy: 4.49e+17 joules\n",
            "Enter mass in kg (or 0 to exit): 0\n",
            "Exiting program.\n"
          ]
        }
      ]
    }
  ]
}