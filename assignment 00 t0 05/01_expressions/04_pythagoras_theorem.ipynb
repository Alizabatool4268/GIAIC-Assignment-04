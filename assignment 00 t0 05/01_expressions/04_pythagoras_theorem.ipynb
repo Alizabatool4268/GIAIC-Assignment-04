{
  "nbformat": 4,
  "nbformat_minor": 0,
  "metadata": {
    "colab": {
      "provenance": []
    },
    "kernelspec": {
      "name": "python3",
      "display_name": "Python 3"
    },
    "language_info": {
      "name": "python"
    }
  },
  "cells": [
    {
      "cell_type": "markdown",
      "source": [
        "Write a program that asks the user for the lengths of the two perpendicular sides of a right triangle and outputs the length of the third side (the hypotenuse) using the Pythagorean theorem!"
      ],
      "metadata": {
        "id": "1x4RZArvJRoR"
      }
    },
    {
      "cell_type": "code",
      "source": [
        "import math\n",
        "\n",
        "def main():\n",
        "    ab: float = float(input(\"Enter the length of AB: \"))\n",
        "    ac: float = float(input(\"Enter the length of AC: \"))\n",
        "    bc: float = math.sqrt(ab**2 + ac**2)\n",
        "    print(\"The Hypotenuse is:\" + str(bc))\n",
        "\n",
        "if __name__ == '__main__':\n",
        "    main()"
      ],
      "metadata": {
        "colab": {
          "base_uri": "https://localhost:8080/"
        },
        "id": "2f7vfXVZJY1X",
        "outputId": "1ce3fb36-597f-43a0-f467-5426d3497f66"
      },
      "execution_count": 5,
      "outputs": [
        {
          "output_type": "stream",
          "name": "stdout",
          "text": [
            "Enter the length of AB: 4\n",
            "Enter the length of AC: 2\n",
            "The Hypotenuse is:4.47213595499958\n"
          ]
        }
      ]
    }
  ]
}