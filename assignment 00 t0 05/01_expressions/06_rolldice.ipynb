{
  "nbformat": 4,
  "nbformat_minor": 0,
  "metadata": {
    "colab": {
      "provenance": []
    },
    "kernelspec": {
      "name": "python3",
      "display_name": "Python 3"
    },
    "language_info": {
      "name": "python"
    }
  },
  "cells": [
    {
      "cell_type": "markdown",
      "source": [
        "Simulate rolling two dice, and prints results of each roll as well as the total."
      ],
      "metadata": {
        "id": "Vb3qrcm_L0XL"
      }
    },
    {
      "cell_type": "code",
      "source": [
        "import random\n",
        "\n",
        "TOTAL_SIDES = 6\n",
        "\n",
        "def roll_dice():\n",
        "  dice1 = random.randint(1,TOTAL_SIDES)\n",
        "  dice2 = random.randint(1,TOTAL_SIDES)\n",
        "  sum = dice1 + dice2\n",
        "  print(f\"Dice one is {dice1} , Dice two is {dice2} there sum is {sum}\")\n",
        "\n",
        "if __name__ == \"__main__\":\n",
        "  roll_dice()\n",
        "  roll_dice()\n",
        "  roll_dice()"
      ],
      "metadata": {
        "colab": {
          "base_uri": "https://localhost:8080/"
        },
        "id": "lFXmQMndL1-x",
        "outputId": "b4db2eb0-9e42-469c-de22-d7257d5959c6"
      },
      "execution_count": 4,
      "outputs": [
        {
          "output_type": "stream",
          "name": "stdout",
          "text": [
            "Dice one is 2 , Dice two is 6 there sum is 8\n",
            "Dice one is 4 , Dice two is 1 there sum is 5\n",
            "Dice one is 4 , Dice two is 4 there sum is 8\n"
          ]
        }
      ]
    }
  ]
}